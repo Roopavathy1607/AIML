{
  "nbformat": 4,
  "nbformat_minor": 0,
  "metadata": {
    "colab": {
      "provenance": [],
      "authorship_tag": "ABX9TyNjov0Y27Plz7Sk+EkeKh/U",
      "include_colab_link": true
    },
    "kernelspec": {
      "name": "python3",
      "display_name": "Python 3"
    },
    "language_info": {
      "name": "python"
    }
  },
  "cells": [
    {
      "cell_type": "markdown",
      "metadata": {
        "id": "view-in-github",
        "colab_type": "text"
      },
      "source": [
        "<a href=\"https://colab.research.google.com/github/Roopavathy1607/AIML/blob/main/nm.ipynb\" target=\"_parent\"><img src=\"https://colab.research.google.com/assets/colab-badge.svg\" alt=\"Open In Colab\"/></a>"
      ]
    },
    {
      "cell_type": "code",
      "execution_count": 2,
      "metadata": {
        "colab": {
          "base_uri": "https://localhost:8080/"
        },
        "id": "AK0wY1wIV0-a",
        "outputId": "ae65ef49-4689-453f-80be-81022d4c8ad1"
      },
      "outputs": [
        {
          "output_type": "stream",
          "name": "stdout",
          "text": [
            ">> Autonomous Navigation and Task Execution Initiated\n",
            "\n",
            "[Sensor] Position 0: CLEAR detected.\n",
            "[AI Decision] => Move Forward\n",
            "[Sensor] Position 1: CLEAR detected.\n",
            "[AI Decision] => Move Forward\n",
            "[Sensor] Position 2: OBSTACLE detected.\n",
            "[AI Decision] => Reroute\n",
            "[Sensor] Position 3: CLEAR detected.\n",
            "[AI Decision] => Move Forward\n",
            "[Sensor] Position 4: OBSTACLE detected.\n",
            "[AI Decision] => Reroute\n",
            "[Sensor] Position 5: CLEAR detected.\n",
            "[AI Decision] => Move Forward\n",
            "[Sensor] Position 6: CLEAR detected.\n",
            "[AI Decision] => Move Forward\n",
            "\n",
            ">> Navigation Log: ['forward', 'forward', 'reroute', 'forward', 'reroute', 'forward', 'forward']\n",
            ">> Status: COMPLETE\n"
          ]
        }
      ],
      "source": [
        "import random\n",
        "import time\n",
        "environment = ['clear', 'clear', 'obstacle', 'clear', 'obstacle', 'clear', 'clear']\n",
        "def classify_terrain(sensor_input):\n",
        "    \"\"\"Mimics machine learning-based terrain classification.\"\"\"\n",
        "    return 'safe' if sensor_input == 'clear' else 'unsafe'\n",
        "def ai_decision(sensor_data):\n",
        "    \"\"\"Make decisions based on classified terrain.\"\"\"\n",
        "    if classify_terrain(sensor_data) == 'safe':\n",
        "        return 'move_forward'\n",
        "    else:\n",
        "        return 'reroute'\n",
        "class SmartAutonomousSystem:\n",
        "    def __init__(self, environment):\n",
        "        self.environment = environment\n",
        "        self.position = 0\n",
        "        self.log = []\n",
        "        self.safety_status = True\n",
        "\n",
        "    def monitor_system(self):\n",
        "        \"\"\"Safety and efficiency checks.\"\"\"\n",
        "        if random.random() < 0.05:\n",
        "            self.safety_status = False\n",
        "            print(\"[ALERT] Safety system triggered! Halting operation.\")\n",
        "            return False\n",
        "        return True\n",
        "\n",
        "    def run(self):\n",
        "        print(\">> Autonomous Navigation and Task Execution Initiated\\n\")\n",
        "        while self.position < len(self.environment):\n",
        "            if not self.monitor_system():\n",
        "                break\n",
        "\n",
        "            sensor_data = self.environment[self.position]\n",
        "            decision = ai_decision(sensor_data)\n",
        "\n",
        "            print(f\"[Sensor] Position {self.position}: {sensor_data.upper()} detected.\")\n",
        "            print(f\"[AI Decision] => {decision.replace('_', ' ').title()}\")\n",
        "\n",
        "            if decision == 'move_forward':\n",
        "                self.log.append('forward')\n",
        "                self.position += 1\n",
        "            elif decision == 'reroute':\n",
        "                self.log.append('reroute')\n",
        "                self.position += 1  # Skip or take alternate path\n",
        "\n",
        "            time.sleep(0.5)\n",
        "\n",
        "        print(\"\\n>> Navigation Log:\", self.log)\n",
        "        print(\">> Status: COMPLETE\" if self.safety_status else \">> Status: HALTED due to safety concern\")\n",
        "\n",
        "\n",
        "system = SmartAutonomousSystem(environment)\n",
        "system.run()\n"
      ]
    }
  ]
}